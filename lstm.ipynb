{
 "cells": [
  {
   "metadata": {},
   "cell_type": "markdown",
   "source": "imports",
   "id": "8430ad68d0c630de"
  },
  {
   "metadata": {
    "ExecuteTime": {
     "end_time": "2025-01-12T16:39:03.831147Z",
     "start_time": "2025-01-12T16:39:03.827890Z"
    }
   },
   "cell_type": "code",
   "source": [
    "import pandas as pd\n",
    "import numpy as np\n",
    "from sklearn.model_selection import train_test_split\n",
    "from sklearn.preprocessing import MinMaxScaler\n",
    "from tensorflow.keras.models import Sequential, load_model\n",
    "from tensorflow.keras.layers import LSTM, Dense, Dropout, Input\n",
    "from tensorflow.keras.optimizers import Adam\n",
    "import matplotlib.pyplot as plt"
   ],
   "id": "f47044218d0c556e",
   "outputs": [],
   "execution_count": 6
  },
  {
   "metadata": {},
   "cell_type": "markdown",
   "source": "load data",
   "id": "6899bf02e38938a4"
  },
  {
   "metadata": {
    "ExecuteTime": {
     "end_time": "2025-01-12T16:39:03.896813Z",
     "start_time": "2025-01-12T16:39:03.884852Z"
    }
   },
   "cell_type": "code",
   "source": [
    "data = pd.read_csv('power_usage.csv')\n",
    "data.columns =  ['timestamp', 'servername', 'active_connection', 'load', 'watt']\n",
    "data['timestamp'] = pd.to_datetime(data['timestamp'])\n",
    "data = data.sort_values(['servername','timestamp'])\n",
    "data.head()"
   ],
   "id": "dbff6b5f15cd5e06",
   "outputs": [
    {
     "data": {
      "text/plain": [
       "             timestamp      servername  active_connection  load  watt\n",
       "1  2025-01-06 21:16:11  dummy_server_1                  0     0  0.01\n",
       "4  2025-01-06 21:16:13  dummy_server_1                  0     0  0.01\n",
       "7  2025-01-06 21:16:15  dummy_server_1                  0     0  0.00\n",
       "10 2025-01-06 21:16:17  dummy_server_1                  0     0  0.23\n",
       "13 2025-01-06 21:16:19  dummy_server_1                  0     0  0.27"
      ],
      "text/html": [
       "<div>\n",
       "<style scoped>\n",
       "    .dataframe tbody tr th:only-of-type {\n",
       "        vertical-align: middle;\n",
       "    }\n",
       "\n",
       "    .dataframe tbody tr th {\n",
       "        vertical-align: top;\n",
       "    }\n",
       "\n",
       "    .dataframe thead th {\n",
       "        text-align: right;\n",
       "    }\n",
       "</style>\n",
       "<table border=\"1\" class=\"dataframe\">\n",
       "  <thead>\n",
       "    <tr style=\"text-align: right;\">\n",
       "      <th></th>\n",
       "      <th>timestamp</th>\n",
       "      <th>servername</th>\n",
       "      <th>active_connection</th>\n",
       "      <th>load</th>\n",
       "      <th>watt</th>\n",
       "    </tr>\n",
       "  </thead>\n",
       "  <tbody>\n",
       "    <tr>\n",
       "      <th>1</th>\n",
       "      <td>2025-01-06 21:16:11</td>\n",
       "      <td>dummy_server_1</td>\n",
       "      <td>0</td>\n",
       "      <td>0</td>\n",
       "      <td>0.01</td>\n",
       "    </tr>\n",
       "    <tr>\n",
       "      <th>4</th>\n",
       "      <td>2025-01-06 21:16:13</td>\n",
       "      <td>dummy_server_1</td>\n",
       "      <td>0</td>\n",
       "      <td>0</td>\n",
       "      <td>0.01</td>\n",
       "    </tr>\n",
       "    <tr>\n",
       "      <th>7</th>\n",
       "      <td>2025-01-06 21:16:15</td>\n",
       "      <td>dummy_server_1</td>\n",
       "      <td>0</td>\n",
       "      <td>0</td>\n",
       "      <td>0.00</td>\n",
       "    </tr>\n",
       "    <tr>\n",
       "      <th>10</th>\n",
       "      <td>2025-01-06 21:16:17</td>\n",
       "      <td>dummy_server_1</td>\n",
       "      <td>0</td>\n",
       "      <td>0</td>\n",
       "      <td>0.23</td>\n",
       "    </tr>\n",
       "    <tr>\n",
       "      <th>13</th>\n",
       "      <td>2025-01-06 21:16:19</td>\n",
       "      <td>dummy_server_1</td>\n",
       "      <td>0</td>\n",
       "      <td>0</td>\n",
       "      <td>0.27</td>\n",
       "    </tr>\n",
       "  </tbody>\n",
       "</table>\n",
       "</div>"
      ]
     },
     "execution_count": 7,
     "metadata": {},
     "output_type": "execute_result"
    }
   ],
   "execution_count": 7
  },
  {
   "metadata": {},
   "cell_type": "markdown",
   "source": "scale data",
   "id": "7784f23327a22544"
  },
  {
   "metadata": {
    "ExecuteTime": {
     "end_time": "2025-01-12T16:39:03.947788Z",
     "start_time": "2025-01-12T16:39:03.943198Z"
    }
   },
   "cell_type": "code",
   "source": [
    "scaler = MinMaxScaler()\n",
    "data[['load', 'watt']] = scaler.fit_transform(data[['load', 'watt']])\n"
   ],
   "id": "c6e5dd2962e8de0e",
   "outputs": [],
   "execution_count": 8
  },
  {
   "metadata": {},
   "cell_type": "markdown",
   "source": "create time series data",
   "id": "cb3c00fc7da6822b"
  },
  {
   "metadata": {
    "ExecuteTime": {
     "end_time": "2025-01-12T16:39:04.918363Z",
     "start_time": "2025-01-12T16:39:03.992900Z"
    }
   },
   "cell_type": "code",
   "source": [
    "time_steps = 7\n",
    "X, y = [], []\n",
    "for i in range(len(data) - time_steps):\n",
    "    sequence = data.iloc[i:i + time_steps][['load']].values\n",
    "    target = data.iloc[i + time_steps]['watt']\n",
    "    X.append(sequence)\n",
    "    y.append(target)\n",
    "X = np.array(X)\n",
    "y = np.array(y)\n",
    "X.shape, y.shape\n"
   ],
   "id": "44c63085f8136c6",
   "outputs": [
    {
     "data": {
      "text/plain": [
       "((5323, 7, 1), (5323,))"
      ]
     },
     "execution_count": 9,
     "metadata": {},
     "output_type": "execute_result"
    }
   ],
   "execution_count": 9
  },
  {
   "metadata": {},
   "cell_type": "markdown",
   "source": "split data",
   "id": "917d3968fa44a56a"
  },
  {
   "metadata": {
    "ExecuteTime": {
     "end_time": "2025-01-12T16:39:04.949515Z",
     "start_time": "2025-01-12T16:39:04.938246Z"
    }
   },
   "cell_type": "code",
   "source": "X_train, X_test, y_train, y_test = train_test_split(X, y, test_size=0.2, random_state=7)",
   "id": "c7c4046ec6ca7338",
   "outputs": [],
   "execution_count": 10
  },
  {
   "metadata": {},
   "cell_type": "markdown",
   "source": "model",
   "id": "25e85d8acfc11950"
  },
  {
   "metadata": {
    "ExecuteTime": {
     "end_time": "2025-01-12T16:39:05.306801Z",
     "start_time": "2025-01-12T16:39:04.989319Z"
    }
   },
   "cell_type": "code",
   "source": [
    "model = Sequential([\n",
    "    Input(shape=(time_steps, 1)),\n",
    "    LSTM(16, activation='relu'),\n",
    "    Dense(1)\n",
    "])\n",
    "model.compile(optimizer=Adam(learning_rate=0.0001), loss='mse', metrics=['mae'])"
   ],
   "id": "4ed7a47803060c64",
   "outputs": [
    {
     "name": "stderr",
     "output_type": "stream",
     "text": [
      "W0000 00:00:1736699945.227101   90277 gpu_device.cc:2344] Cannot dlopen some GPU libraries. Please make sure the missing libraries mentioned above are installed properly if you would like to use GPU. Follow the guide at https://www.tensorflow.org/install/gpu for how to download and setup the required libraries for your platform.\n",
      "Skipping registering GPU devices...\n"
     ]
    }
   ],
   "execution_count": 11
  },
  {
   "metadata": {},
   "cell_type": "markdown",
   "source": "train model",
   "id": "ed4364a70d30768a"
  },
  {
   "metadata": {
    "ExecuteTime": {
     "end_time": "2025-01-12T16:39:19.848703Z",
     "start_time": "2025-01-12T16:39:05.316026Z"
    }
   },
   "cell_type": "code",
   "source": "history = model.fit(X_train, y_train, epochs=50, batch_size=32, validation_data=(X_test, y_test))",
   "id": "4713998dd9c78ad4",
   "outputs": [
    {
     "name": "stdout",
     "output_type": "stream",
     "text": [
      "Epoch 1/50\n",
      "\u001B[1m134/134\u001B[0m \u001B[32m━━━━━━━━━━━━━━━━━━━━\u001B[0m\u001B[37m\u001B[0m \u001B[1m1s\u001B[0m 4ms/step - loss: 0.0878 - mae: 0.2169 - val_loss: 0.0665 - val_mae: 0.1957\n",
      "Epoch 2/50\n",
      "\u001B[1m134/134\u001B[0m \u001B[32m━━━━━━━━━━━━━━━━━━━━\u001B[0m\u001B[37m\u001B[0m \u001B[1m0s\u001B[0m 2ms/step - loss: 0.0640 - mae: 0.1940 - val_loss: 0.0479 - val_mae: 0.1765\n",
      "Epoch 3/50\n",
      "\u001B[1m134/134\u001B[0m \u001B[32m━━━━━━━━━━━━━━━━━━━━\u001B[0m\u001B[37m\u001B[0m \u001B[1m0s\u001B[0m 2ms/step - loss: 0.0477 - mae: 0.1771 - val_loss: 0.0369 - val_mae: 0.1602\n",
      "Epoch 4/50\n",
      "\u001B[1m134/134\u001B[0m \u001B[32m━━━━━━━━━━━━━━━━━━━━\u001B[0m\u001B[37m\u001B[0m \u001B[1m0s\u001B[0m 2ms/step - loss: 0.0370 - mae: 0.1619 - val_loss: 0.0341 - val_mae: 0.1548\n",
      "Epoch 5/50\n",
      "\u001B[1m134/134\u001B[0m \u001B[32m━━━━━━━━━━━━━━━━━━━━\u001B[0m\u001B[37m\u001B[0m \u001B[1m0s\u001B[0m 2ms/step - loss: 0.0365 - mae: 0.1610 - val_loss: 0.0330 - val_mae: 0.1524\n",
      "Epoch 6/50\n",
      "\u001B[1m134/134\u001B[0m \u001B[32m━━━━━━━━━━━━━━━━━━━━\u001B[0m\u001B[37m\u001B[0m \u001B[1m0s\u001B[0m 2ms/step - loss: 0.0363 - mae: 0.1590 - val_loss: 0.0321 - val_mae: 0.1502\n",
      "Epoch 7/50\n",
      "\u001B[1m134/134\u001B[0m \u001B[32m━━━━━━━━━━━━━━━━━━━━\u001B[0m\u001B[37m\u001B[0m \u001B[1m0s\u001B[0m 3ms/step - loss: 0.0360 - mae: 0.1571 - val_loss: 0.0314 - val_mae: 0.1485\n",
      "Epoch 8/50\n",
      "\u001B[1m134/134\u001B[0m \u001B[32m━━━━━━━━━━━━━━━━━━━━\u001B[0m\u001B[37m\u001B[0m \u001B[1m0s\u001B[0m 2ms/step - loss: 0.0333 - mae: 0.1536 - val_loss: 0.0307 - val_mae: 0.1469\n",
      "Epoch 9/50\n",
      "\u001B[1m134/134\u001B[0m \u001B[32m━━━━━━━━━━━━━━━━━━━━\u001B[0m\u001B[37m\u001B[0m \u001B[1m0s\u001B[0m 2ms/step - loss: 0.0338 - mae: 0.1541 - val_loss: 0.0302 - val_mae: 0.1455\n",
      "Epoch 10/50\n",
      "\u001B[1m134/134\u001B[0m \u001B[32m━━━━━━━━━━━━━━━━━━━━\u001B[0m\u001B[37m\u001B[0m \u001B[1m0s\u001B[0m 2ms/step - loss: 0.0321 - mae: 0.1509 - val_loss: 0.0297 - val_mae: 0.1442\n",
      "Epoch 11/50\n",
      "\u001B[1m134/134\u001B[0m \u001B[32m━━━━━━━━━━━━━━━━━━━━\u001B[0m\u001B[37m\u001B[0m \u001B[1m0s\u001B[0m 2ms/step - loss: 0.0326 - mae: 0.1502 - val_loss: 0.0292 - val_mae: 0.1432\n",
      "Epoch 12/50\n",
      "\u001B[1m134/134\u001B[0m \u001B[32m━━━━━━━━━━━━━━━━━━━━\u001B[0m\u001B[37m\u001B[0m \u001B[1m0s\u001B[0m 2ms/step - loss: 0.0313 - mae: 0.1471 - val_loss: 0.0288 - val_mae: 0.1416\n",
      "Epoch 13/50\n",
      "\u001B[1m134/134\u001B[0m \u001B[32m━━━━━━━━━━━━━━━━━━━━\u001B[0m\u001B[37m\u001B[0m \u001B[1m0s\u001B[0m 2ms/step - loss: 0.0329 - mae: 0.1502 - val_loss: 0.0283 - val_mae: 0.1407\n",
      "Epoch 14/50\n",
      "\u001B[1m134/134\u001B[0m \u001B[32m━━━━━━━━━━━━━━━━━━━━\u001B[0m\u001B[37m\u001B[0m \u001B[1m0s\u001B[0m 2ms/step - loss: 0.0309 - mae: 0.1466 - val_loss: 0.0280 - val_mae: 0.1393\n",
      "Epoch 15/50\n",
      "\u001B[1m134/134\u001B[0m \u001B[32m━━━━━━━━━━━━━━━━━━━━\u001B[0m\u001B[37m\u001B[0m \u001B[1m0s\u001B[0m 2ms/step - loss: 0.0307 - mae: 0.1444 - val_loss: 0.0276 - val_mae: 0.1381\n",
      "Epoch 16/50\n",
      "\u001B[1m134/134\u001B[0m \u001B[32m━━━━━━━━━━━━━━━━━━━━\u001B[0m\u001B[37m\u001B[0m \u001B[1m0s\u001B[0m 2ms/step - loss: 0.0301 - mae: 0.1432 - val_loss: 0.0272 - val_mae: 0.1378\n",
      "Epoch 17/50\n",
      "\u001B[1m134/134\u001B[0m \u001B[32m━━━━━━━━━━━━━━━━━━━━\u001B[0m\u001B[37m\u001B[0m \u001B[1m0s\u001B[0m 2ms/step - loss: 0.0299 - mae: 0.1435 - val_loss: 0.0268 - val_mae: 0.1365\n",
      "Epoch 18/50\n",
      "\u001B[1m134/134\u001B[0m \u001B[32m━━━━━━━━━━━━━━━━━━━━\u001B[0m\u001B[37m\u001B[0m \u001B[1m0s\u001B[0m 2ms/step - loss: 0.0299 - mae: 0.1429 - val_loss: 0.0265 - val_mae: 0.1353\n",
      "Epoch 19/50\n",
      "\u001B[1m134/134\u001B[0m \u001B[32m━━━━━━━━━━━━━━━━━━━━\u001B[0m\u001B[37m\u001B[0m \u001B[1m0s\u001B[0m 2ms/step - loss: 0.0287 - mae: 0.1402 - val_loss: 0.0262 - val_mae: 0.1350\n",
      "Epoch 20/50\n",
      "\u001B[1m134/134\u001B[0m \u001B[32m━━━━━━━━━━━━━━━━━━━━\u001B[0m\u001B[37m\u001B[0m \u001B[1m0s\u001B[0m 2ms/step - loss: 0.0282 - mae: 0.1387 - val_loss: 0.0259 - val_mae: 0.1338\n",
      "Epoch 21/50\n",
      "\u001B[1m134/134\u001B[0m \u001B[32m━━━━━━━━━━━━━━━━━━━━\u001B[0m\u001B[37m\u001B[0m \u001B[1m0s\u001B[0m 2ms/step - loss: 0.0270 - mae: 0.1372 - val_loss: 0.0256 - val_mae: 0.1320\n",
      "Epoch 22/50\n",
      "\u001B[1m134/134\u001B[0m \u001B[32m━━━━━━━━━━━━━━━━━━━━\u001B[0m\u001B[37m\u001B[0m \u001B[1m0s\u001B[0m 2ms/step - loss: 0.0278 - mae: 0.1374 - val_loss: 0.0253 - val_mae: 0.1316\n",
      "Epoch 23/50\n",
      "\u001B[1m134/134\u001B[0m \u001B[32m━━━━━━━━━━━━━━━━━━━━\u001B[0m\u001B[37m\u001B[0m \u001B[1m0s\u001B[0m 2ms/step - loss: 0.0283 - mae: 0.1372 - val_loss: 0.0250 - val_mae: 0.1309\n",
      "Epoch 24/50\n",
      "\u001B[1m134/134\u001B[0m \u001B[32m━━━━━━━━━━━━━━━━━━━━\u001B[0m\u001B[37m\u001B[0m \u001B[1m0s\u001B[0m 2ms/step - loss: 0.0268 - mae: 0.1348 - val_loss: 0.0248 - val_mae: 0.1302\n",
      "Epoch 25/50\n",
      "\u001B[1m134/134\u001B[0m \u001B[32m━━━━━━━━━━━━━━━━━━━━\u001B[0m\u001B[37m\u001B[0m \u001B[1m0s\u001B[0m 2ms/step - loss: 0.0268 - mae: 0.1340 - val_loss: 0.0245 - val_mae: 0.1289\n",
      "Epoch 26/50\n",
      "\u001B[1m134/134\u001B[0m \u001B[32m━━━━━━━━━━━━━━━━━━━━\u001B[0m\u001B[37m\u001B[0m \u001B[1m0s\u001B[0m 2ms/step - loss: 0.0265 - mae: 0.1331 - val_loss: 0.0243 - val_mae: 0.1281\n",
      "Epoch 27/50\n",
      "\u001B[1m134/134\u001B[0m \u001B[32m━━━━━━━━━━━━━━━━━━━━\u001B[0m\u001B[37m\u001B[0m \u001B[1m0s\u001B[0m 2ms/step - loss: 0.0248 - mae: 0.1299 - val_loss: 0.0242 - val_mae: 0.1289\n",
      "Epoch 28/50\n",
      "\u001B[1m134/134\u001B[0m \u001B[32m━━━━━━━━━━━━━━━━━━━━\u001B[0m\u001B[37m\u001B[0m \u001B[1m0s\u001B[0m 2ms/step - loss: 0.0267 - mae: 0.1333 - val_loss: 0.0239 - val_mae: 0.1272\n",
      "Epoch 29/50\n",
      "\u001B[1m134/134\u001B[0m \u001B[32m━━━━━━━━━━━━━━━━━━━━\u001B[0m\u001B[37m\u001B[0m \u001B[1m0s\u001B[0m 2ms/step - loss: 0.0258 - mae: 0.1327 - val_loss: 0.0237 - val_mae: 0.1262\n",
      "Epoch 30/50\n",
      "\u001B[1m134/134\u001B[0m \u001B[32m━━━━━━━━━━━━━━━━━━━━\u001B[0m\u001B[37m\u001B[0m \u001B[1m0s\u001B[0m 2ms/step - loss: 0.0258 - mae: 0.1300 - val_loss: 0.0235 - val_mae: 0.1257\n",
      "Epoch 31/50\n",
      "\u001B[1m134/134\u001B[0m \u001B[32m━━━━━━━━━━━━━━━━━━━━\u001B[0m\u001B[37m\u001B[0m \u001B[1m0s\u001B[0m 2ms/step - loss: 0.0260 - mae: 0.1307 - val_loss: 0.0233 - val_mae: 0.1241\n",
      "Epoch 32/50\n",
      "\u001B[1m134/134\u001B[0m \u001B[32m━━━━━━━━━━━━━━━━━━━━\u001B[0m\u001B[37m\u001B[0m \u001B[1m0s\u001B[0m 2ms/step - loss: 0.0266 - mae: 0.1313 - val_loss: 0.0233 - val_mae: 0.1229\n",
      "Epoch 33/50\n",
      "\u001B[1m134/134\u001B[0m \u001B[32m━━━━━━━━━━━━━━━━━━━━\u001B[0m\u001B[37m\u001B[0m \u001B[1m0s\u001B[0m 2ms/step - loss: 0.0247 - mae: 0.1266 - val_loss: 0.0230 - val_mae: 0.1232\n",
      "Epoch 34/50\n",
      "\u001B[1m134/134\u001B[0m \u001B[32m━━━━━━━━━━━━━━━━━━━━\u001B[0m\u001B[37m\u001B[0m \u001B[1m0s\u001B[0m 2ms/step - loss: 0.0258 - mae: 0.1292 - val_loss: 0.0229 - val_mae: 0.1240\n",
      "Epoch 35/50\n",
      "\u001B[1m134/134\u001B[0m \u001B[32m━━━━━━━━━━━━━━━━━━━━\u001B[0m\u001B[37m\u001B[0m \u001B[1m0s\u001B[0m 2ms/step - loss: 0.0240 - mae: 0.1247 - val_loss: 0.0229 - val_mae: 0.1250\n",
      "Epoch 36/50\n",
      "\u001B[1m134/134\u001B[0m \u001B[32m━━━━━━━━━━━━━━━━━━━━\u001B[0m\u001B[37m\u001B[0m \u001B[1m0s\u001B[0m 2ms/step - loss: 0.0254 - mae: 0.1297 - val_loss: 0.0227 - val_mae: 0.1212\n",
      "Epoch 37/50\n",
      "\u001B[1m134/134\u001B[0m \u001B[32m━━━━━━━━━━━━━━━━━━━━\u001B[0m\u001B[37m\u001B[0m \u001B[1m0s\u001B[0m 2ms/step - loss: 0.0249 - mae: 0.1270 - val_loss: 0.0225 - val_mae: 0.1219\n",
      "Epoch 38/50\n",
      "\u001B[1m134/134\u001B[0m \u001B[32m━━━━━━━━━━━━━━━━━━━━\u001B[0m\u001B[37m\u001B[0m \u001B[1m0s\u001B[0m 2ms/step - loss: 0.0231 - mae: 0.1230 - val_loss: 0.0225 - val_mae: 0.1222\n",
      "Epoch 39/50\n",
      "\u001B[1m134/134\u001B[0m \u001B[32m━━━━━━━━━━━━━━━━━━━━\u001B[0m\u001B[37m\u001B[0m \u001B[1m0s\u001B[0m 2ms/step - loss: 0.0242 - mae: 0.1266 - val_loss: 0.0224 - val_mae: 0.1210\n",
      "Epoch 40/50\n",
      "\u001B[1m134/134\u001B[0m \u001B[32m━━━━━━━━━━━━━━━━━━━━\u001B[0m\u001B[37m\u001B[0m \u001B[1m0s\u001B[0m 2ms/step - loss: 0.0240 - mae: 0.1246 - val_loss: 0.0223 - val_mae: 0.1222\n",
      "Epoch 41/50\n",
      "\u001B[1m134/134\u001B[0m \u001B[32m━━━━━━━━━━━━━━━━━━━━\u001B[0m\u001B[37m\u001B[0m \u001B[1m0s\u001B[0m 2ms/step - loss: 0.0236 - mae: 0.1241 - val_loss: 0.0223 - val_mae: 0.1220\n",
      "Epoch 42/50\n",
      "\u001B[1m134/134\u001B[0m \u001B[32m━━━━━━━━━━━━━━━━━━━━\u001B[0m\u001B[37m\u001B[0m \u001B[1m0s\u001B[0m 2ms/step - loss: 0.0239 - mae: 0.1254 - val_loss: 0.0221 - val_mae: 0.1207\n",
      "Epoch 43/50\n",
      "\u001B[1m134/134\u001B[0m \u001B[32m━━━━━━━━━━━━━━━━━━━━\u001B[0m\u001B[37m\u001B[0m \u001B[1m0s\u001B[0m 2ms/step - loss: 0.0246 - mae: 0.1259 - val_loss: 0.0221 - val_mae: 0.1199\n",
      "Epoch 44/50\n",
      "\u001B[1m134/134\u001B[0m \u001B[32m━━━━━━━━━━━━━━━━━━━━\u001B[0m\u001B[37m\u001B[0m \u001B[1m0s\u001B[0m 2ms/step - loss: 0.0234 - mae: 0.1242 - val_loss: 0.0220 - val_mae: 0.1199\n",
      "Epoch 45/50\n",
      "\u001B[1m134/134\u001B[0m \u001B[32m━━━━━━━━━━━━━━━━━━━━\u001B[0m\u001B[37m\u001B[0m \u001B[1m0s\u001B[0m 2ms/step - loss: 0.0235 - mae: 0.1228 - val_loss: 0.0219 - val_mae: 0.1194\n",
      "Epoch 46/50\n",
      "\u001B[1m134/134\u001B[0m \u001B[32m━━━━━━━━━━━━━━━━━━━━\u001B[0m\u001B[37m\u001B[0m \u001B[1m0s\u001B[0m 2ms/step - loss: 0.0237 - mae: 0.1231 - val_loss: 0.0219 - val_mae: 0.1182\n",
      "Epoch 47/50\n",
      "\u001B[1m134/134\u001B[0m \u001B[32m━━━━━━━━━━━━━━━━━━━━\u001B[0m\u001B[37m\u001B[0m \u001B[1m0s\u001B[0m 2ms/step - loss: 0.0231 - mae: 0.1209 - val_loss: 0.0218 - val_mae: 0.1195\n",
      "Epoch 48/50\n",
      "\u001B[1m134/134\u001B[0m \u001B[32m━━━━━━━━━━━━━━━━━━━━\u001B[0m\u001B[37m\u001B[0m \u001B[1m0s\u001B[0m 2ms/step - loss: 0.0253 - mae: 0.1260 - val_loss: 0.0218 - val_mae: 0.1185\n",
      "Epoch 49/50\n",
      "\u001B[1m134/134\u001B[0m \u001B[32m━━━━━━━━━━━━━━━━━━━━\u001B[0m\u001B[37m\u001B[0m \u001B[1m0s\u001B[0m 2ms/step - loss: 0.0242 - mae: 0.1243 - val_loss: 0.0217 - val_mae: 0.1184\n",
      "Epoch 50/50\n",
      "\u001B[1m134/134\u001B[0m \u001B[32m━━━━━━━━━━━━━━━━━━━━\u001B[0m\u001B[37m\u001B[0m \u001B[1m0s\u001B[0m 2ms/step - loss: 0.0239 - mae: 0.1222 - val_loss: 0.0217 - val_mae: 0.1194\n"
     ]
    }
   ],
   "execution_count": 12
  },
  {
   "metadata": {},
   "cell_type": "markdown",
   "source": "show results",
   "id": "aae6866fc62c14ae"
  },
  {
   "metadata": {
    "ExecuteTime": {
     "end_time": "2025-01-12T16:39:21.236107Z",
     "start_time": "2025-01-12T16:39:21.166241Z"
    }
   },
   "cell_type": "code",
   "source": [
    "plt.plot(history.history['loss'], label='train loss')\n",
    "plt.plot(history.history['val_loss'], label='test loss')\n",
    "plt.legend()\n",
    "plt.show()"
   ],
   "id": "14adca75979d5f85",
   "outputs": [
    {
     "data": {
      "text/plain": [
       "<Figure size 640x480 with 1 Axes>"
      ],
      "image/png": "[encoded data removed]"
     },
     "metadata": {},
     "output_type": "display_data"
    }
   ],
   "execution_count": 13
  },
  {
   "metadata": {},
   "cell_type": "markdown",
   "source": "save model",
   "id": "5643d38f44fb41ee"
  },
  {
   "metadata": {},
   "cell_type": "code",
   "outputs": [],
   "execution_count": null,
   "source": "model.save('lstm_model.h5')",
   "id": "a65baa5134c93886"
  }
 ],
 "metadata": {
  "kernelspec": {
   "display_name": "Python 3",
   "language": "python",
   "name": "python3"
  },
  "language_info": {
   "codemirror_mode": {
    "name": "ipython",
    "version": 2
   },
   "file_extension": ".py",
   "mimetype": "text/x-python",
   "name": "python",
   "nbconvert_exporter": "python",
   "pygments_lexer": "ipython2",
   "version": "2.7.6"
  }
 },
 "nbformat": 4,
 "nbformat_minor": 5
}
